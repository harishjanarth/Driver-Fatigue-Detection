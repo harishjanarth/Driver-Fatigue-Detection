{
 "cells": [
  {
   "cell_type": "code",
   "execution_count": 14,
   "metadata": {},
   "outputs": [],
   "source": [
    "import pandas as pd\n"
   ]
  },
  {
   "cell_type": "code",
   "execution_count": 15,
   "metadata": {},
   "outputs": [
    {
     "name": "stdout",
     "output_type": "stream",
     "text": [
      "Overview of the data: \n",
      "(14426, 85)\n",
      "   Subject   State  Channel_1_PSD  Channel_1_SE  Channel_2_PSD  Channel_2_SE  \\\n",
      "0        1  Normal   2.804631e-12      3.384060   3.021617e-20      1.244557   \n",
      "1        1  Normal   4.716901e-12      2.832374   2.362112e-20      0.332428   \n",
      "2        1  Normal   4.861129e-12      1.935872   1.503485e-20      0.323100   \n",
      "3        1  Normal   3.026155e-12      3.145153   7.239844e-21      0.323345   \n",
      "4        1  Normal   3.188129e-12      3.007020   2.413684e-21      0.334485   \n",
      "\n",
      "   Channel_3_PSD  Channel_3_SE  Channel_4_PSD  Channel_4_SE  ...  \\\n",
      "0   3.527873e-11      2.054690   1.087782e-18      1.244557  ...   \n",
      "1   2.515478e-11      1.782350   8.503603e-19      0.332428  ...   \n",
      "2   2.176214e-11      1.994177   5.412547e-19      0.323100  ...   \n",
      "3   1.583429e-11      2.409325   2.606344e-19      0.323345  ...   \n",
      "4   1.068970e-11      2.347908   8.689264e-20      0.334485  ...   \n",
      "\n",
      "   Channel_37_SE  Channel_38_PSD  Channel_38_SE  Channel_39_PSD  \\\n",
      "0       1.780469    7.554042e-19       1.244557    4.450577e-12   \n",
      "1       1.708493    5.905280e-19       0.332428    2.918949e-12   \n",
      "2       1.678172    3.758713e-19       0.323100    3.210492e-12   \n",
      "3       2.368366    1.809961e-19       0.323345    2.043916e-12   \n",
      "4       2.468709    6.034211e-20       0.334485    2.109234e-12   \n",
      "\n",
      "   Channel_39_SE  Channel_40_PSD  Channel_40_SE  Avg_Variance  Avg_Skewness  \\\n",
      "0       2.090827    4.834587e-19       1.244557  3.006136e-09      0.205231   \n",
      "1       2.183510    3.779379e-19       0.332428  1.121013e-09     -0.043460   \n",
      "2       1.977684    2.405577e-19       0.323100  6.850277e-10      0.052623   \n",
      "3       2.661419    1.158375e-19       0.323345  3.788320e-10     -0.020118   \n",
      "4       2.618332    3.861895e-20       0.334485  1.525530e-10      0.165466   \n",
      "\n",
      "   Avg_Kurtosis  \n",
      "0     12.999357  \n",
      "1     -0.986578  \n",
      "2     -0.982510  \n",
      "3     -0.965169  \n",
      "4     -0.710201  \n",
      "\n",
      "[5 rows x 85 columns]\n"
     ]
    }
   ],
   "source": [
    "data = pd.read_csv('eeg_features.csv')\n",
    "print(\"Overview of the data: \")\n",
    "print(data.shape)\n",
    "print(data.head())"
   ]
  },
  {
   "cell_type": "code",
   "execution_count": 16,
   "metadata": {},
   "outputs": [
    {
     "name": "stdout",
     "output_type": "stream",
     "text": [
      "Class Distribution: \n",
      "State\n",
      "Fatigue    7216\n",
      "Normal     7210\n",
      "Name: count, dtype: int64\n"
     ]
    }
   ],
   "source": [
    "print(\"Class Distribution: \") \n",
    "print(data['State'].value_counts())"
   ]
  },
  {
   "cell_type": "code",
   "execution_count": 17,
   "metadata": {},
   "outputs": [
    {
     "name": "stdout",
     "output_type": "stream",
     "text": [
      "Missing values before preprocessing: \n",
      " Subject              0\n",
      "State                0\n",
      "Channel_1_PSD        0\n",
      "Channel_1_SE         0\n",
      "Channel_2_PSD        0\n",
      "                  ... \n",
      "Channel_40_PSD       0\n",
      "Channel_40_SE        0\n",
      "Avg_Variance         0\n",
      "Avg_Skewness      3604\n",
      "Avg_Kurtosis      3604\n",
      "Length: 85, dtype: int64\n",
      "\n",
      "Missing values after preprocessing:\n",
      " Subject           0\n",
      "State             0\n",
      "Channel_1_PSD     0\n",
      "Channel_1_SE      0\n",
      "Channel_2_PSD     0\n",
      "                 ..\n",
      "Channel_40_PSD    0\n",
      "Channel_40_SE     0\n",
      "Avg_Variance      0\n",
      "Avg_Skewness      0\n",
      "Avg_Kurtosis      0\n",
      "Length: 85, dtype: int64\n"
     ]
    },
    {
     "name": "stderr",
     "output_type": "stream",
     "text": [
      "C:\\Users\\Harish\\AppData\\Local\\Temp\\ipykernel_22860\\2423845382.py:11: FutureWarning: A value is trying to be set on a copy of a DataFrame or Series through chained assignment using an inplace method.\n",
      "The behavior will change in pandas 3.0. This inplace method will never work because the intermediate object on which we are setting values always behaves as a copy.\n",
      "\n",
      "For example, when doing 'df[col].method(value, inplace=True)', try using 'df.method({col: value}, inplace=True)' or df[col] = df[col].method(value) instead, to perform the operation inplace on the original object.\n",
      "\n",
      "\n",
      "  df[col].fillna(df[col].mode()[0], inplace=True)\n"
     ]
    }
   ],
   "source": [
    "file = \"eeg_features.csv\"\n",
    "df = pd.read_csv(file)\n",
    "\n",
    "print(\"Missing values before preprocessing: \\n\",df.isnull().sum())\n",
    "\n",
    "numeric_cols = df.select_dtypes(include=['number']).columns\n",
    "df[numeric_cols] = df[numeric_cols].fillna(df[numeric_cols].median())\n",
    "\n",
    "categorical_cols = df.select_dtypes(include=['object', 'category']).columns\n",
    "for col in categorical_cols:\n",
    "    df[col].fillna(df[col].mode()[0], inplace=True)\n",
    "\n",
    "print(\"\\nMissing values after preprocessing:\\n\", df.isnull().sum())\n",
    "\n",
    "df.to_csv('eeg_features_cleaned.csv', index=False)"
   ]
  },
  {
   "cell_type": "code",
   "execution_count": 27,
   "metadata": {},
   "outputs": [],
   "source": [
    "import pandas as pd\n",
    "from sklearn.preprocessing import StandardScaler\n",
    "from sklearn.impute import SimpleImputer\n",
    "\n",
    "file_path = 'eeg_features_cleaned.csv'\n",
    "df = pd.read_csv(file_path)\n",
    "\n",
    "numeric_cols = df.select_dtypes(include=['number']).columns\n",
    "numeric_cols = numeric_cols.drop('Subject')\n",
    "\n",
    "imputer = SimpleImputer(strategy='median')\n",
    "df[numeric_cols] = imputer.fit_transform(df[numeric_cols])\n",
    "\n",
    "scaler = StandardScaler()\n",
    "df[numeric_cols] = scaler.fit_transform(df[numeric_cols])\n",
    "\n",
    "df.to_csv('eeg_features_scaled.csv', index=False, float_format='%.6f')\n"
   ]
  },
  {
   "cell_type": "code",
   "execution_count": 28,
   "metadata": {},
   "outputs": [
    {
     "name": "stdout",
     "output_type": "stream",
     "text": [
      "   Subject   State  Channel_1_PSD  Channel_1_SE  Channel_2_PSD  Channel_2_SE  \\\n",
      "0        1  Normal      -0.184246      0.427037      -0.134444     -0.041723   \n",
      "1        1  Normal      -0.184138     -0.933370      -0.136483     -1.012947   \n",
      "2        1  Normal      -0.184129     -3.144057      -0.139138     -1.022880   \n",
      "3        1  Normal      -0.184234     -0.162087      -0.141548     -1.022619   \n",
      "4        1  Normal      -0.184224     -0.502708      -0.143040     -1.010756   \n",
      "\n",
      "   Channel_3_PSD  Channel_3_SE  Channel_4_PSD  Channel_4_SE  ...  \\\n",
      "0      -0.108356     -2.468247       0.632124     -0.117541  ...   \n",
      "1      -0.109162     -3.096211       0.479455     -0.654824  ...   \n",
      "2      -0.109433     -2.607778       0.280691     -0.660319  ...   \n",
      "3      -0.109905     -1.650525       0.100245     -0.660175  ...   \n",
      "4      -0.110314     -1.792141      -0.011476     -0.653613  ...   \n",
      "\n",
      "   Channel_37_SE  Channel_38_PSD  Channel_38_SE  Channel_39_PSD  \\\n",
      "0      -2.751374        0.834562       1.836621       -0.075223   \n",
      "1      -2.917444        0.641949      -3.337265       -0.075458   \n",
      "2      -2.987405        0.391181      -3.390180       -0.075414   \n",
      "3      -1.394918        0.163523      -3.388790       -0.075593   \n",
      "4      -1.163395        0.022572      -3.325596       -0.075583   \n",
      "\n",
      "   Channel_39_SE  Channel_40_PSD  Channel_40_SE  Avg_Variance  Avg_Skewness  \\\n",
      "0      -2.292894        0.202188       0.170035     -0.338893      1.146605   \n",
      "1      -2.071121        0.141062      -0.797098     -0.539119     -0.547275   \n",
      "2      -2.563623        0.061482      -0.806989     -0.585427      0.107163   \n",
      "3      -0.927575       -0.010765      -0.806729     -0.617949     -0.388285   \n",
      "4      -1.030673       -0.055496      -0.794916     -0.641983      0.875760   \n",
      "\n",
      "   Avg_Kurtosis  \n",
      "0     15.410765  \n",
      "1     -0.661405  \n",
      "2     -0.656730  \n",
      "3     -0.636802  \n",
      "4     -0.343802  \n",
      "\n",
      "[5 rows x 85 columns]\n"
     ]
    }
   ],
   "source": [
    "data = pd.read_csv('eeg_features_scaled.csv')\n",
    "print(data.head())"
   ]
  },
  {
   "cell_type": "markdown",
   "metadata": {},
   "source": [
    "Applying PCA on the dataset"
   ]
  },
  {
   "cell_type": "code",
   "execution_count": 29,
   "metadata": {},
   "outputs": [
    {
     "data": {
      "image/png": "[encoded data removed]",
      "text/plain": [
       "<Figure size 640x480 with 1 Axes>"
      ]
     },
     "metadata": {},
     "output_type": "display_data"
    },
    {
     "name": "stdout",
     "output_type": "stream",
     "text": [
      "PCA applied with 62 components.\n"
     ]
    }
   ],
   "source": [
    "import pandas as pd\n",
    "from sklearn.preprocessing import StandardScaler\n",
    "from sklearn.decomposition import PCA\n",
    "import matplotlib.pyplot as plt\n",
    "\n",
    "file_path = 'eeg_features_scaled.csv'\n",
    "df = pd.read_csv(file_path)\n",
    "\n",
    "numeric_cols = df.select_dtypes(include=['number']).columns\n",
    "df = df.dropna(subset=numeric_cols)  # Drops rows with NaN in numeric_cols\n",
    "scaler = StandardScaler()\n",
    "scaled_data = scaler.fit_transform(df[numeric_cols])\n",
    "\n",
    "pca = PCA()\n",
    "pca_result = pca.fit_transform(scaled_data)\n",
    "explained_variance = pca.explained_variance_ratio_.cumsum()\n",
    "\n",
    "plt.plot(range(1, len(explained_variance) + 1), explained_variance, marker='o', linestyle='--')\n",
    "plt.axhline(y=0.95, color='r', linestyle='--')\n",
    "plt.xlabel('Number of Principal Components')\n",
    "plt.ylabel('Cumulative Explained Variance')\n",
    "plt.title('PCA Explained Variance')\n",
    "plt.grid(True)\n",
    "plt.show()\n",
    "\n",
    "optimal_components = next(i for i, v in enumerate(explained_variance) if v >= 0.95) + 1\n",
    "\n",
    "pca_optimal = PCA(n_components=optimal_components)\n",
    "pca_optimal_result = pca_optimal.fit_transform(scaled_data)\n",
    "\n",
    "for i in range(optimal_components):\n",
    "    df[f'PC{i+1}'] = pca_optimal_result[:, i]\n",
    "\n",
    "df.to_csv('eeg_features_with_optimal_pca.csv', index=False)\n",
    "print(f\"PCA applied with {optimal_components} components.\")\n"
   ]
  }
 ],
 "metadata": {
  "kernelspec": {
   "display_name": "base",
   "language": "python",
   "name": "python3"
  },
  "language_info": {
   "codemirror_mode": {
    "name": "ipython",
    "version": 3
   },
   "file_extension": ".py",
   "mimetype": "text/x-python",
   "name": "python",
   "nbconvert_exporter": "python",
   "pygments_lexer": "ipython3",
   "version": "3.12.7"
  }
 },
 "nbformat": 4,
 "nbformat_minor": 2
}
