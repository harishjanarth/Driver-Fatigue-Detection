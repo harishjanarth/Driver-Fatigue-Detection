{
 "cells": [
  {
   "cell_type": "markdown",
   "metadata": {},
   "source": [
    "Using random forest to take the best features of the dataset"
   ]
  },
  {
   "cell_type": "markdown",
   "metadata": {},
   "source": [
    "By taking impurity measures"
   ]
  },
  {
   "cell_type": "code",
   "execution_count": 7,
   "metadata": {},
   "outputs": [
    {
     "name": "stdout",
     "output_type": "stream",
     "text": [
      "           Feature  Importance\n",
      "44  Channel_23_PSD    0.048881\n",
      "48  Channel_25_PSD    0.044361\n",
      "27   Channel_14_SE    0.039614\n",
      "4    Channel_3_PSD    0.038182\n",
      "60  Channel_31_PSD    0.037746\n",
      "52  Channel_27_PSD    0.033984\n",
      "51   Channel_26_SE    0.032859\n",
      "56  Channel_29_PSD    0.032035\n",
      "40  Channel_21_PSD    0.029518\n",
      "57   Channel_29_SE    0.029416\n",
      "61   Channel_31_SE    0.028079\n",
      "46  Channel_24_PSD    0.026781\n",
      "64  Channel_33_PSD    0.025810\n",
      "23   Channel_12_SE    0.024185\n",
      "32  Channel_17_PSD    0.023820\n",
      "21   Channel_11_SE    0.022154\n",
      "45   Channel_23_SE    0.021759\n",
      "53   Channel_27_SE    0.021261\n",
      "47   Channel_24_SE    0.020779\n",
      "28  Channel_15_PSD    0.020544\n"
     ]
    }
   ],
   "source": [
    "import pandas as pd\n",
    "from sklearn.ensemble import RandomForestClassifier\n",
    "\n",
    "df = pd.read_csv('eeg_features_scaled.csv')\n",
    "\n",
    "X = df.drop(columns=['State', 'Subject'])\n",
    "y = df['Subject']\n",
    "\n",
    "clf = RandomForestClassifier(n_estimators=100, random_state=42)\n",
    "clf.fit(X, y)\n",
    "importances = clf.feature_importances_\n",
    "\n",
    "feature_importance_df = pd.DataFrame({\n",
    "    'Feature': X.columns,\n",
    "    'Importance': importances\n",
    "})\n",
    "\n",
    "top_features = feature_importance_df.sort_values(by='Importance', ascending=False).head(20)\n",
    "print(top_features)\n",
    "\n",
    "top_20_columns = top_features['Feature'].tolist()\n",
    "\n",
    "# Create a new DataFrame with the top 20 features and safely add 'State'\n",
    "df_top_20 = pd.concat([df[top_20_columns], df[['Subject', 'State']]], axis=1)\n",
    "\n",
    "df_top_20.to_csv('eeg_top_20_features.csv', index=False)\n"
   ]
  },
  {
   "cell_type": "code",
   "execution_count": null,
   "metadata": {},
   "outputs": [],
   "source": []
  }
 ],
 "metadata": {
  "kernelspec": {
   "display_name": "base",
   "language": "python",
   "name": "python3"
  },
  "language_info": {
   "codemirror_mode": {
    "name": "ipython",
    "version": 3
   },
   "file_extension": ".py",
   "mimetype": "text/x-python",
   "name": "python",
   "nbconvert_exporter": "python",
   "pygments_lexer": "ipython3",
   "version": "3.12.7"
  }
 },
 "nbformat": 4,
 "nbformat_minor": 2
}
